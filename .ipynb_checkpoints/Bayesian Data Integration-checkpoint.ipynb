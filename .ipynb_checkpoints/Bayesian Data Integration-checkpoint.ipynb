{
 "cells": [
  {
   "cell_type": "markdown",
   "metadata": {},
   "source": [
    "# Bayesian Data Integration"
   ]
  },
  {
   "cell_type": "code",
   "execution_count": 1,
   "metadata": {},
   "outputs": [],
   "source": [
    "from pgmpy.models import BayesianModel\n",
    "from pgmpy.inference import VariableElimination\n",
    "from pgmpy.models import BayesianModel\n",
    "from pgmpy.factors.discrete import TabularCPD\n",
    "from pgmpy.sampling import BayesianModelSampling\n",
    "from pgmpy.estimators import MaximumLikelihoodEstimator\n",
    "\n",
    "import pandas as pd\n",
    "import numpy as np\n",
    "\n",
    "from helper import *\n",
    "from parameter_estimation import *"
   ]
  },
  {
   "cell_type": "code",
   "execution_count": 2,
   "metadata": {},
   "outputs": [],
   "source": [
    "import sys\n",
    "del sys.modules['helper']\n",
    "del sys.modules['parameter_estimation']\n",
    "from helper import *\n",
    "from parameter_estimation import *"
   ]
  },
  {
   "cell_type": "markdown",
   "metadata": {},
   "source": [
    "## Working with a simplified version of the Cancer Model"
   ]
  },
  {
   "cell_type": "markdown",
   "metadata": {},
   "source": [
    "<img style=\"float: left\" src=\"BN.png\" width=\"300\">"
   ]
  },
  {
   "cell_type": "code",
   "execution_count": 3,
   "metadata": {},
   "outputs": [],
   "source": [
    "# Create model, add CPDs\n",
    "\n",
    "cancer_model = BayesianModel([('Cancer', 'Xray'), \n",
    "                              ('Cancer', 'Dyspnoea')])\n",
    "cpd_cancer = TabularCPD(variable='Cancer', variable_card=2,\n",
    "                        values=[[0.53], [0.47]])\n",
    "cpd_xray = TabularCPD(variable='Xray', variable_card=2,\n",
    "                      values=[[0.9, 0.2], [0.1, 0.8]],\n",
    "                      evidence=['Cancer'], evidence_card=[2])\n",
    "cpd_dysp = TabularCPD(variable='Dyspnoea', variable_card=2,\n",
    "                      values=[[0.65, 0.3], [0.35, 0.7]],\n",
    "                      evidence=['Cancer'], evidence_card=[2])\n",
    "\n",
    "cancer_model.add_cpds(cpd_cancer, cpd_xray, cpd_dysp)"
   ]
  },
  {
   "cell_type": "code",
   "execution_count": 4,
   "metadata": {},
   "outputs": [
    {
     "name": "stdout",
     "output_type": "stream",
     "text": [
      "╒══════════╤══════╕\n",
      "│ Cancer_0 │ 0.53 │\n",
      "├──────────┼──────┤\n",
      "│ Cancer_1 │ 0.47 │\n",
      "╘══════════╧══════╛\n",
      "╒════════╤══════════╤══════════╕\n",
      "│ Cancer │ Cancer_0 │ Cancer_1 │\n",
      "├────────┼──────────┼──────────┤\n",
      "│ Xray_0 │ 0.9      │ 0.2      │\n",
      "├────────┼──────────┼──────────┤\n",
      "│ Xray_1 │ 0.1      │ 0.8      │\n",
      "╘════════╧══════════╧══════════╛\n",
      "╒════════════╤══════════╤══════════╕\n",
      "│ Cancer     │ Cancer_0 │ Cancer_1 │\n",
      "├────────────┼──────────┼──────────┤\n",
      "│ Dyspnoea_0 │ 0.65     │ 0.3      │\n",
      "├────────────┼──────────┼──────────┤\n",
      "│ Dyspnoea_1 │ 0.35     │ 0.7      │\n",
      "╘════════════╧══════════╧══════════╛\n"
     ]
    }
   ],
   "source": [
    "print(cpd_cancer)\n",
    "print(cpd_xray)\n",
    "print(cpd_dysp)"
   ]
  },
  {
   "cell_type": "code",
   "execution_count": 5,
   "metadata": {},
   "outputs": [],
   "source": [
    "# Inference \n",
    "cancer_infer = VariableElimination(cancer_model)"
   ]
  },
  {
   "cell_type": "code",
   "execution_count": 6,
   "metadata": {},
   "outputs": [
    {
     "name": "stdout",
     "output_type": "stream",
     "text": [
      "╒════════════╤═════════════════╕\n",
      "│ Dyspnoea   │   phi(Dyspnoea) │\n",
      "╞════════════╪═════════════════╡\n",
      "│ Dyspnoea_0 │          0.4855 │\n",
      "├────────────┼─────────────────┤\n",
      "│ Dyspnoea_1 │          0.5145 │\n",
      "╘════════════╧═════════════════╛\n",
      "╒════════╤═════════════╕\n",
      "│ Xray   │   phi(Xray) │\n",
      "╞════════╪═════════════╡\n",
      "│ Xray_0 │      0.5710 │\n",
      "├────────┼─────────────┤\n",
      "│ Xray_1 │      0.4290 │\n",
      "╘════════╧═════════════╛\n",
      "╒════════╤═════════════╕\n",
      "│ Xray   │   phi(Xray) │\n",
      "╞════════╪═════════════╡\n",
      "│ Xray_0 │      0.2000 │\n",
      "├────────┼─────────────┤\n",
      "│ Xray_1 │      0.8000 │\n",
      "╘════════╧═════════════╛\n",
      "╒════════╤═════════════╕\n",
      "│ Xray   │   phi(Xray) │\n",
      "╞════════╪═════════════╡\n",
      "│ Xray_0 │      0.4524 │\n",
      "├────────┼─────────────┤\n",
      "│ Xray_1 │      0.5476 │\n",
      "╘════════╧═════════════╛\n"
     ]
    }
   ],
   "source": [
    "# Queries\n",
    "q1 = cancer_infer.query(variables=['Dyspnoea'])\n",
    "print(q1['Dyspnoea'])\n",
    "\n",
    "q2 = cancer_infer.query(variables=['Xray'])\n",
    "print(q2['Xray'])\n",
    "\n",
    "q3 = cancer_infer.query(variables=['Xray'], evidence={'Cancer': 1})\n",
    "print(q3['Xray'])\n",
    "\n",
    "q4 = cancer_infer.query(variables=['Xray'], evidence={'Dyspnoea': 1})\n",
    "print(q4['Xray'])"
   ]
  },
  {
   "cell_type": "markdown",
   "metadata": {},
   "source": [
    "#### Generate some synethtic data using Forward Sampling"
   ]
  },
  {
   "cell_type": "code",
   "execution_count": 7,
   "metadata": {},
   "outputs": [],
   "source": [
    "inference_cm = BayesianModelSampling(cancer_model)"
   ]
  },
  {
   "cell_type": "code",
   "execution_count": 8,
   "metadata": {},
   "outputs": [
    {
     "data": {
      "text/html": [
       "<div>\n",
       "<table border=\"1\" class=\"dataframe\">\n",
       "  <thead>\n",
       "    <tr style=\"text-align: right;\">\n",
       "      <th></th>\n",
       "      <th>Cancer</th>\n",
       "      <th>Xray</th>\n",
       "      <th>Dyspnoea</th>\n",
       "    </tr>\n",
       "  </thead>\n",
       "  <tbody>\n",
       "    <tr>\n",
       "      <th>0</th>\n",
       "      <td>1</td>\n",
       "      <td>1</td>\n",
       "      <td>0</td>\n",
       "    </tr>\n",
       "    <tr>\n",
       "      <th>1</th>\n",
       "      <td>1</td>\n",
       "      <td>0</td>\n",
       "      <td>0</td>\n",
       "    </tr>\n",
       "    <tr>\n",
       "      <th>2</th>\n",
       "      <td>0</td>\n",
       "      <td>0</td>\n",
       "      <td>0</td>\n",
       "    </tr>\n",
       "    <tr>\n",
       "      <th>3</th>\n",
       "      <td>0</td>\n",
       "      <td>0</td>\n",
       "      <td>0</td>\n",
       "    </tr>\n",
       "    <tr>\n",
       "      <th>4</th>\n",
       "      <td>1</td>\n",
       "      <td>1</td>\n",
       "      <td>0</td>\n",
       "    </tr>\n",
       "  </tbody>\n",
       "</table>\n",
       "</div>"
      ],
      "text/plain": [
       "   Cancer  Xray  Dyspnoea\n",
       "0       1     1         0\n",
       "1       1     0         0\n",
       "2       0     0         0\n",
       "3       0     0         0\n",
       "4       1     1         0"
      ]
     },
     "execution_count": 8,
     "metadata": {},
     "output_type": "execute_result"
    }
   ],
   "source": [
    "df_cancer = inference_cm.forward_sample(size=1000000, return_type='dataframe')\n",
    "df_cancer.head()"
   ]
  },
  {
   "cell_type": "code",
   "execution_count": 9,
   "metadata": {},
   "outputs": [],
   "source": [
    "## Generate two different tables\n",
    "df_cancer_A = df_cancer[['Cancer','Xray']].copy()\n",
    "df_cancer_B = df_cancer[['Cancer','Dyspnoea']].copy()"
   ]
  },
  {
   "cell_type": "code",
   "execution_count": 10,
   "metadata": {},
   "outputs": [
    {
     "data": {
      "text/plain": [
       "0.46996"
      ]
     },
     "execution_count": 10,
     "metadata": {},
     "output_type": "execute_result"
    }
   ],
   "source": [
    "df_cancer_A['Cancer'].sum()/len(df_cancer_A['Cancer'])"
   ]
  },
  {
   "cell_type": "markdown",
   "metadata": {},
   "source": [
    "## Working with biased data"
   ]
  },
  {
   "cell_type": "markdown",
   "metadata": {},
   "source": [
    "<img style=\"float: left\" src=\"biased_BN.png\" width=\"300\">"
   ]
  },
  {
   "cell_type": "markdown",
   "metadata": {},
   "source": [
    "#### Generate biased subsample (Table A)\n",
    "- p(Cancer=1) is much higher in this dataset\n",
    "- maybe a slightly older population, and therefore more likely to get cancer"
   ]
  },
  {
   "cell_type": "code",
   "execution_count": 11,
   "metadata": {},
   "outputs": [],
   "source": [
    "n_samples = 500000"
   ]
  },
  {
   "cell_type": "code",
   "execution_count": 12,
   "metadata": {},
   "outputs": [
    {
     "name": "stdout",
     "output_type": "stream",
     "text": [
      "p(Xray=1) = 0.589168\n",
      "p(Cancer=1) = 0.7\n"
     ]
    }
   ],
   "source": [
    "# Generate biased sample with p(Cancer = 0) = 0.3 (previously 0.53)\n",
    "df_sampled_A = biased_subsample(df_cancer_A, n_samples, 'Cancer', 0.30)\n",
    "print('p(Xray=1) =',df_sampled_A['Xray'].sum()/n_samples)\n",
    "print('p(Cancer=1) =',df_sampled_A['Cancer'].sum()/n_samples)"
   ]
  },
  {
   "cell_type": "markdown",
   "metadata": {},
   "source": [
    "**Estimate parameters for Table A**"
   ]
  },
  {
   "cell_type": "code",
   "execution_count": 13,
   "metadata": {},
   "outputs": [],
   "source": [
    "test_model = BayesianModel([('Cancer', 'Xray')])\n",
    "estimator = MaximumLikelihoodEstimator(test_model, df_sampled_A)"
   ]
  },
  {
   "cell_type": "code",
   "execution_count": 14,
   "metadata": {},
   "outputs": [
    {
     "name": "stdout",
     "output_type": "stream",
     "text": [
      "╒═══════════╤═════╕\n",
      "│ Cancer(0) │ 0.3 │\n",
      "├───────────┼─────┤\n",
      "│ Cancer(1) │ 0.7 │\n",
      "╘═══════════╧═════╛\n",
      "╒═════════╤═════════════════════╤═══════════╕\n",
      "│ Cancer  │ Cancer(0)           │ Cancer(1) │\n",
      "├─────────┼─────────────────────┼───────────┤\n",
      "│ Xray(0) │ 0.9020266666666666  │ 0.20032   │\n",
      "├─────────┼─────────────────────┼───────────┤\n",
      "│ Xray(1) │ 0.09797333333333333 │ 0.79968   │\n",
      "╘═════════╧═════════════════════╧═══════════╛\n"
     ]
    }
   ],
   "source": [
    "cpd_est_xray = estimator.estimate_cpd('Xray')\n",
    "cpd_est_cancer = estimator.estimate_cpd('Cancer')\n",
    "# estimator.get_parameters()\n",
    "\n",
    "print(cpd_est_cancer)\n",
    "print(cpd_est_xray)\n",
    "# print(cpd_est_dyspnoea)"
   ]
  },
  {
   "cell_type": "markdown",
   "metadata": {},
   "source": [
    "\n",
    "\n",
    "#### Generate unbiased subsample (Table B)\n",
    "\n",
    "- Has original distribution"
   ]
  },
  {
   "cell_type": "code",
   "execution_count": 15,
   "metadata": {},
   "outputs": [
    {
     "name": "stdout",
     "output_type": "stream",
     "text": [
      "p(Dyspnoea=1) = 0.513048\n",
      "p(Cancer=1) = 0.47017\n"
     ]
    }
   ],
   "source": [
    "df_sampled_B = df_cancer_B.sample(n=n_samples)\n",
    "print('p(Dyspnoea=1) =',df_sampled_B['Dyspnoea'].sum()/n_samples)\n",
    "print('p(Cancer=1) =',df_sampled_B['Cancer'].sum()/n_samples)"
   ]
  },
  {
   "cell_type": "markdown",
   "metadata": {},
   "source": [
    "\n"
   ]
  },
  {
   "cell_type": "markdown",
   "metadata": {},
   "source": [
    "### Bayesian Data Integration w/ Importance Sampling Correction \n",
    "-----"
   ]
  },
  {
   "cell_type": "code",
   "execution_count": 16,
   "metadata": {},
   "outputs": [],
   "source": [
    "cancer_model_cor = BayesianModel([('Cancer', 'Xray'), \n",
    "                              ('Cancer', 'Dyspnoea')])"
   ]
  },
  {
   "cell_type": "code",
   "execution_count": 17,
   "metadata": {},
   "outputs": [],
   "source": [
    "parent, b_child_y1x0, b_child_y1x1, child_y1x0, child_y1x1 = parameter_estimation(df_sampled_B, df_sampled_A)"
   ]
  },
  {
   "cell_type": "code",
   "execution_count": 18,
   "metadata": {
    "scrolled": true
   },
   "outputs": [
    {
     "name": "stdout",
     "output_type": "stream",
     "text": [
      "0.4702 0.098 0.7997 0.349 0.6979\n"
     ]
    }
   ],
   "source": [
    "print(parent, b_child_y1x0, b_child_y1x1, child_y1x0, child_y1x1)"
   ]
  },
  {
   "cell_type": "code",
   "execution_count": 19,
   "metadata": {},
   "outputs": [],
   "source": [
    "cancer_model_cor = BayesianModel([('Cancer', 'Xray'), \n",
    "                              ('Cancer', 'Dyspnoea')])\n",
    "\n",
    "cpd_cancer_cor = TabularCPD(variable='Cancer', variable_card=2,\n",
    "                        values=[[1-parent], [parent]])\n",
    "cpd_xray_cor = TabularCPD(variable='Xray', variable_card=2,\n",
    "                      values=[[1-b_child_y1x0, 1-b_child_y1x1], [b_child_y1x0, b_child_y1x1]],\n",
    "                      evidence=['Cancer'], evidence_card=[2])\n",
    "cpd_dysp_cor = TabularCPD(variable='Dyspnoea', variable_card=2,\n",
    "                      values=[[1-child_y1x0, 1-child_y1x1], [child_y1x0, child_y1x1]],\n",
    "                      evidence=['Cancer'], evidence_card=[2])\n",
    "\n",
    "cancer_model_cor.add_cpds(cpd_cancer_cor, cpd_xray_cor, cpd_dysp_cor)"
   ]
  },
  {
   "cell_type": "code",
   "execution_count": 20,
   "metadata": {},
   "outputs": [
    {
     "name": "stdout",
     "output_type": "stream",
     "text": [
      "╒══════════╤════════╕\n",
      "│ Cancer_0 │ 0.5298 │\n",
      "├──────────┼────────┤\n",
      "│ Cancer_1 │ 0.4702 │\n",
      "╘══════════╧════════╛\n",
      "╒════════╤══════════╤═════════════════════╕\n",
      "│ Cancer │ Cancer_0 │ Cancer_1            │\n",
      "├────────┼──────────┼─────────────────────┤\n",
      "│ Xray_0 │ 0.902    │ 0.20030000000000003 │\n",
      "├────────┼──────────┼─────────────────────┤\n",
      "│ Xray_1 │ 0.098    │ 0.7997              │\n",
      "╘════════╧══════════╧═════════════════════╛\n",
      "╒════════════╤══════════╤═════════════════════╕\n",
      "│ Cancer     │ Cancer_0 │ Cancer_1            │\n",
      "├────────────┼──────────┼─────────────────────┤\n",
      "│ Dyspnoea_0 │ 0.651    │ 0.30210000000000004 │\n",
      "├────────────┼──────────┼─────────────────────┤\n",
      "│ Dyspnoea_1 │ 0.349    │ 0.6979              │\n",
      "╘════════════╧══════════╧═════════════════════╛\n"
     ]
    }
   ],
   "source": [
    "print(cpd_cancer_cor)\n",
    "print(cpd_xray_cor)\n",
    "print(cpd_dysp_cor)"
   ]
  },
  {
   "cell_type": "code",
   "execution_count": 21,
   "metadata": {},
   "outputs": [],
   "source": [
    "cancer_infer_cor = VariableElimination(cancer_model_cor)"
   ]
  },
  {
   "cell_type": "code",
   "execution_count": 22,
   "metadata": {},
   "outputs": [
    {
     "name": "stdout",
     "output_type": "stream",
     "text": [
      "╒════════════╤═════════════════╕\n",
      "│ Dyspnoea   │   phi(Dyspnoea) │\n",
      "╞════════════╪═════════════════╡\n",
      "│ Dyspnoea_0 │          0.4869 │\n",
      "├────────────┼─────────────────┤\n",
      "│ Dyspnoea_1 │          0.5131 │\n",
      "╘════════════╧═════════════════╛\n",
      "╒════════╤═════════════╕\n",
      "│ Xray   │   phi(Xray) │\n",
      "╞════════╪═════════════╡\n",
      "│ Xray_0 │      0.5721 │\n",
      "├────────┼─────────────┤\n",
      "│ Xray_1 │      0.4279 │\n",
      "╘════════╧═════════════╛\n",
      "╒════════╤═════════════╕\n",
      "│ Xray   │   phi(Xray) │\n",
      "╞════════╪═════════════╡\n",
      "│ Xray_0 │      0.2003 │\n",
      "├────────┼─────────────┤\n",
      "│ Xray_1 │      0.7997 │\n",
      "╘════════╧═════════════╛\n",
      "╒════════╤═════════════╕\n",
      "│ Xray   │   phi(Xray) │\n",
      "╞════════╪═════════════╡\n",
      "│ Xray_0 │      0.4532 │\n",
      "├────────┼─────────────┤\n",
      "│ Xray_1 │      0.5468 │\n",
      "╘════════╧═════════════╛\n"
     ]
    }
   ],
   "source": [
    "# Queries\n",
    "q1 = cancer_infer_cor.query(variables=['Dyspnoea'])\n",
    "print(q1['Dyspnoea'])\n",
    "\n",
    "q2 = cancer_infer_cor.query(variables=['Xray'])\n",
    "print(q2['Xray'])\n",
    "\n",
    "q3 = cancer_infer_cor.query(variables=['Xray'], evidence={'Cancer': 1})\n",
    "print(q3['Xray'])\n",
    "\n",
    "q4 = cancer_infer_cor.query(variables=['Xray'], evidence={'Dyspnoea': 1})\n",
    "print(q4['Xray'])"
   ]
  },
  {
   "cell_type": "markdown",
   "metadata": {},
   "source": [
    "### The results are the same as above."
   ]
  },
  {
   "cell_type": "code",
   "execution_count": null,
   "metadata": {},
   "outputs": [],
   "source": []
  }
 ],
 "metadata": {
  "kernelspec": {
   "display_name": "Python [conda env:mie1516]",
   "language": "python",
   "name": "conda-env-mie1516-py"
  },
  "language_info": {
   "codemirror_mode": {
    "name": "ipython",
    "version": 3
   },
   "file_extension": ".py",
   "mimetype": "text/x-python",
   "name": "python",
   "nbconvert_exporter": "python",
   "pygments_lexer": "ipython3",
   "version": "3.5.4"
  }
 },
 "nbformat": 4,
 "nbformat_minor": 2
}
